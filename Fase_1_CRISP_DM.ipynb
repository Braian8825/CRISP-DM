{
  "nbformat": 4,
  "nbformat_minor": 0,
  "metadata": {
    "colab": {
      "provenance": [],
      "toc_visible": true,
      "authorship_tag": "ABX9TyNqDIXRBu4tf+I1bCcTq0E1",
      "include_colab_link": true
    },
    "kernelspec": {
      "name": "python3",
      "display_name": "Python 3"
    },
    "language_info": {
      "name": "python"
    }
  },
  "cells": [
    {
      "cell_type": "markdown",
      "metadata": {
        "id": "view-in-github",
        "colab_type": "text"
      },
      "source": [
        "<a href=\"https://colab.research.google.com/github/Braian8825/CRISP-DM/blob/main/Fase_1_CRISP_DM.ipynb\" target=\"_parent\"><img src=\"https://colab.research.google.com/assets/colab-badge.svg\" alt=\"Open In Colab\"/></a>"
      ]
    },
    {
      "cell_type": "code",
      "source": [
        "import pandas as pd\n",
        "from google.colab import drive\n",
        "drive.mount('/content/drive')"
      ],
      "metadata": {
        "colab": {
          "base_uri": "https://localhost:8080/"
        },
        "id": "asYCmbZcAF6x",
        "outputId": "17fcc555-1965-4400-d504-04adcc72e104"
      },
      "execution_count": null,
      "outputs": [
        {
          "output_type": "stream",
          "name": "stdout",
          "text": [
            "Mounted at /content/drive\n"
          ]
        }
      ]
    },
    {
      "cell_type": "markdown",
      "source": [
        "# **CRISP-DM FASE 1**\n",
        "\n",
        "1. Comprensión del negocio.\n",
        "\n",
        "En este proyecto de minería de datos, se realizará un proyecto donde se trata de preveer el dinero que debe tener en reserva un gobierno para los usuarios que hagan reclamos por posible negligencia médica existente. Lo anterior será posible, si se realiza el algoritmo de run-off triangle que se mostrará más adelante.\n"
      ],
      "metadata": {
        "id": "QnCEKbwzwpck"
      }
    },
    {
      "cell_type": "markdown",
      "source": [
        "## **Comprensión del negocio**\n",
        "\n",
        "De acuerdo a estudios previos, se evidencia que uno de los índices más altos de dinero pagados a usuarios en el mundo es gracias al sistema de salud. En muchos casos, el usiario logra demostrar la existencia de procesos médicos que no son adecuados, acompañado de un mal servicio, mostrando así la negligencia en el sistema de salud. Por esto, es importante tener claridad en la proyección del dinero que la entidad debe tener (pricing) para tener las formas de responder por dichas demandas y también para tener un recurso óptimo, pues en cualquier entidad, es muy importante tener el dinero en movimiento para así obtener ganancias.\n"
      ],
      "metadata": {
        "id": "x-gp8alAzvXd"
      }
    },
    {
      "cell_type": "markdown",
      "source": [
        "## **Objetivos del negocio**\n",
        "\n",
        "\n",
        "*   **Objetivo general**: Determinar la reserva que debe tener el gobierno americano para responder a los usuarios del sistema de salud.\n",
        "\n",
        "*   **Objetivos específicos**:\n",
        "\n",
        "* A. Discutir con diversos profesionales sobre los problemas existentes en las reclamaciones por fraude en el sistema de salud.\n",
        "\n",
        "* B. Determinar los factores principales de fraude y el dinero destinado para pagar cada una de estas reclamaciones, generando un total por año y el tiempo (medido en años) del pago de la reclamación.\n",
        "\n",
        "* C. Obtener registros históricos del dinero pagado por la entidad a los usuarios del sistema de salud, entre los años de 1988 a 1997.\n",
        "\n",
        "* D. Organizar los datos utilizando un software específico. En este caso, se utilizará python con colab.\n",
        "\n",
        "* E. Limpiar los datos de la base creada por medio de la recolección de datos, con el fin de elegir las variables de interés.\n",
        "\n",
        "* F. Confrontar a otro profesionales con la base de datos construida con el fin de verificar si la información escogida es la correcta para continuar con la implementación. Si no es así, se debe realizar un reajuste sobre los datos establecidos.\n",
        "\n",
        "* G. Implementar el modelo run-off triangle con el fin de predecir los datos, usando la forma train set.\n",
        "\n",
        "* H. Confrontar con profesionales sobre los resultados obtenidos, con el fin de obtener la mejor reserva (reserva óptima)."
      ],
      "metadata": {
        "id": "c97N1eRa--DA"
      }
    },
    {
      "cell_type": "markdown",
      "source": [
        "## **Evaluación de la situación actual**\n",
        "\n",
        "> Indented block\n",
        "\n",
        "\n",
        "\n",
        "La situación actual de esta organización se centra en que se detectan grandes pérdidas a causa de las reclamaciones de los usuarios por negligencia en el sistema de salud, produciendo pérdidas millonarias, llevando a quiebra incluso a muchas de ellas.\n",
        "\n",
        "En el caso de nuestra empresa, no ha caido en la quiebra, pero sus pérdidas han sido muy altas y los socios presentan una inconformidad ya que no está la ganancia deseada. El dinero que se deja para la reserva no alcanza para cubrir todas las reclamaciones y en otro caso hubo mucho dinero en reserva, evitando que se pudiera poner a generar dividendos. Por eso es indispesable generar un modelo óptimo para evitar tener pérdidas y también para tener una reserva que permita invertir una mayor cantidad de dinero con el fin de generar dividendos.\n",
        "\n",
        "Un problema bastante grande que se tiene es la forma de obtención de datos ya que, unas veces el registro no se lleva de forma organizada ni sistematizada y los datos de las ganancias son aproximados. Se tiene en cuenta ya que, seguramente la proximidad debería ser un ajuste a tener en cuenta en la construcción del modelo. También, al no tener los datos exactos, posiblemente el modelo presente problemas de predicción para años posteriores. Es por eso la idea de revisar más técnicas que nos permitan realizar mejores predicciones y no solo la de triángulos run-off."
      ],
      "metadata": {
        "id": "4ibigsseJlwI"
      }
    },
    {
      "cell_type": "markdown",
      "source": [
        "## **Criterios de éxito**\n",
        "\n",
        "El modelo implementado acá tendrá éxito si:\n",
        "\n",
        "1.   El modelo presenta óptimos resultados en la parte de entrenamiento.\n",
        "2.   El modelo presenta óptimos resultados en la parte de la evaluación. Acá se debe tener cuidado en la forma de selección de los datos para el entrenamiento y luego para la prueba. Al ser nuestra entidad relativamete pequeña, la selección de los datos debe tener bastante cuidado.\n",
        "3. El modelo tiene la capacidad de ser probado en otras entidades que se dediquen a negocios similares y presenten resultados acordes. Este paso no debe tener una presición exacta ya que el modelo lo crearemos para nuestra entidad y seguramente cada entidad posee situaciones diferentes: Capital, trayectoria, número de reclamaciones (número de asegurados).\n",
        "\n"
      ],
      "metadata": {
        "id": "SaJhy3EPk0wN"
      }
    },
    {
      "cell_type": "markdown",
      "source": [
        "## **Plan de proyecto preliminar**\n",
        "\n",
        "Los pasos para el éxito del proyecto se reflejan en el siguiente documento, creado previamente:\n",
        "\n",
        "\n"
      ],
      "metadata": {
        "id": "ddKj-dwv4IFb"
      }
    },
    {
      "cell_type": "code",
      "source": [
        "!pip install PyPDF2"
      ],
      "metadata": {
        "colab": {
          "base_uri": "https://localhost:8080/"
        },
        "id": "w3eylp7sz70P",
        "outputId": "ebfc4ce5-b61c-4098-f1f5-c6e3004b5187"
      },
      "execution_count": 29,
      "outputs": [
        {
          "output_type": "stream",
          "name": "stdout",
          "text": [
            "Requirement already satisfied: PyPDF2 in /usr/local/lib/python3.10/dist-packages (3.0.1)\n"
          ]
        }
      ]
    },
    {
      "cell_type": "code",
      "source": [
        "import PyPDF2\n",
        "\n",
        "pdf_file = open('/content/drive/MyDrive/plan-de-trabajo.pdf', 'rb')\n",
        "\n",
        "\n",
        "# Crea un objeto PdfReader\n",
        "pdf_reader = PyPDF2.PdfReader(pdf_file)\n",
        "\n",
        "# Obtén una página específica (índice basado en 0)\n",
        "page1 = pdf_reader.pages[0]\n",
        "page2 = pdf_reader.pages[1]\n",
        "page3 = pdf_reader.pages[2]\n",
        "\n",
        "\n",
        "# Extrae el texto de la página\n",
        "page1_text = page1.extract_text()\n",
        "page2_text = page2.extract_text()\n",
        "page3_text = page3.extract_text()\n",
        "\n",
        "# Cierra el archivo PDF\n",
        "pdf_file.close()\n",
        "\n",
        "# Imprime el texto extraído\n",
        "print(page1_text)\n",
        "print(page2_text)\n",
        "print(page3_text)\n",
        "\n"
      ],
      "metadata": {
        "colab": {
          "base_uri": "https://localhost:8080/"
        },
        "id": "rQBBSwdfAUqE",
        "outputId": "8ff785ee-7363-4f71-9dd0-6af927e8a86f"
      },
      "execution_count": 30,
      "outputs": [
        {
          "output_type": "stream",
          "name": "stdout",
          "text": [
            " PRICING DE ASEGURADORA DE SALUD  \n",
            " \n",
            "PROYECTO NO.  FECHA DE ENVÍO  \n",
            "1-7 22/08/2023  \n",
            "OBJETIVOS DEL PROYECTO   \n",
            "OBJETIVO  GENERAL:  \n",
            "Determinar la reserva que debe tener el gobierno americano para responder a los \n",
            "usuarios del sistema de salud.  \n",
            " \n",
            "OBJETIVOS ESPECÍFICOS:  \n",
            " \n",
            "A. Discutir con diversos profesionales sobre los problemas exist entes en las \n",
            "reclamaciones por fraude en el sistema de salud.  \n",
            " \n",
            "B. Determinar los factores principales de fraude y el dinero destinado para pagar \n",
            "cada una de estas reclamaciones, generando un total por año y el tiempo (medido en \n",
            "años) del pago de la reclamación.  \n",
            " \n",
            "C. Obtener registros históricos del dinero pagado por la entidad a los usuarios \n",
            "del sistema de salud, entre los años de 1988 a 1997.  \n",
            " \n",
            "D. Organizar los datos utilizando un software específico. En este caso, se \n",
            "utilizará python con colab.  \n",
            " \n",
            "E. Limpiar los datos de la base creada por medio de la recolección de datos, con \n",
            "el fin de elegir las variables de interés.  \n",
            " \n",
            "F. Confrontar a otro profesionales con la base de datos construida con el fin de \n",
            "verificar si la información escogida es la correcta para continuar con la \n",
            "implementación. Si no es así, se debe realizar un reajuste sobre los datos \n",
            "establecidos.  \n",
            " \n",
            "G. Implementar el modelo run -off triangle con el fin de predecir los datos, usando \n",
            "la forma train set.  \n",
            " \n",
            "H. Confrontar con profesionales sobre los resultados obtenidos, con el fin de \n",
            "obtener la mejor reserva (reserva óptima).  \n",
            " \n",
            " \n",
            " \n",
            " \n",
            " \n",
            " \n",
            "Paso 1. Entregables del proyecto  \n",
            " \n",
            " ENTREGABLE NO.  DESCRIPCIÓN  \n",
            "1 Lista con datos de dinero reclamado por los asegurados  desde 1987 hasta 1995.   \n",
            "2 Modelo triángulo run -off con predicciones.  \n",
            "3 Prueba del modelo con otros datos de aseguradoras de salud.  \n",
            " \n",
            "Paso 2. Lista de tareas del proyecto  \n",
            "Enumere todas las tareas del proyecto que se completarán, en función de los entregables enumerados en la \n",
            "sección anterior. No enumere las fechas. Agregue más filas según sea necesario.  \n",
            " \n",
            " \n",
            "Estructura de desglose del trabajo (WBS) \n",
            "adjunta  NO X SÍ  \n",
            "Proporcione el enlace, si \n",
            "corresponde.  N/A \n",
            " \n",
            "TAREA NO.  DESCRIPCIÓN  PARA ENTREGABLE NO. \n",
            "... \n",
            "INTRODUCIR TAREA #  \n",
            "1 Planificación  ejecución del modelo. En tendimientos de los datos.  1,2 \n",
            "2 Ejecución  modelo run -off. 3 \n",
            "3 Evaluación  del modelo run -off. 3, 4 \n",
            "4 Comparación modelo run -off con datos de otras aseguradoras.  5 \n",
            " \n",
            "Paso 3.  Fuera del alcance  \n",
            " \n",
            "Este proyecto \n",
            "NO logrará o \n",
            "incluirá lo  \n",
            "siguiente:  Modelo run -off para cualquier base de d atos diferente a datos de salud.  \n",
            "Paso 4. Supuestos del proyecto  \n",
            " \n",
            "NO. PRESUNCIÓN  \n",
            "1 Los datos históricos del dinero pagado a los asegurados en las diferentes aseguradoras desde 1987 \n",
            "hasta 1995 son verdaderos y fueron sacados a lo largo de un estudio minucioso.  \n",
            "Existe un modelo run -off con paquetería en R que ya está implementado. En nuestro caso, este \n",
            "modelo partirá desde 0.   \n",
            "2 Este modelo puede tener imperfecciones si se aplica en otro tipo de datos.  \n",
            "3 El modelo no podrá salir a producción si los datos de entrenamiento no se ajustan correctamente a \n",
            "los datos de prueba. Por eso la importancia del uso de datos de training y datos de proof.  \n",
            " \n",
            " Paso 5. Restricciones del proyecto  \n",
            "FECHA DE INICIO DEL \n",
            "PROYECTO  08/08/2023  \n",
            "FECHA DE LANZAMIENTO / \n",
            "PUESTA EN MARCHA  08/09/2023  \n",
            "FECHA DE FINALIZACIÓN \n",
            "DEL PROYECTO  01/12/2023  \n",
            "ENUMERE CUALQUIER \n",
            "FECHA LÍMITE (S) ESTRICTA \n",
            "(S)  \n",
            "ENUMERE OTRAS FECHAS / \n",
            "DESCRIPCIONES DE HITOS \n",
            "CLAVE   \n",
            "LIMITACIONES \n",
            "PRESUPUESTARIAS  • Falta de personal para implementar modelos en Python.  \n",
            "• Poca literatura para armar el modelo propuesto.  \n",
            "• Tiempo de ejecución.  \n",
            "RESTRICCIONES DE \n",
            "CALIDAD O RENDIMIENTO  El modelo debería servir para calcular cualquier predicción de pricing en \n",
            "cualquier base de datos.  \n",
            "El modelo puede tener menor calidad que el ejecutado en R con la paquetería \n",
            "de actuaria . \n",
            " \n",
            "LIMITACIONES DE EQUIPO / \n",
            "PERSONAL  Poco personal para trabajar en el proyecto.   \n",
            "RESTRICCIONES \n",
            "REGULATORIAS   \n",
            " \n",
            "Paso 6. Estimaciones actualizadas  \n",
            "Estimar las horas requeridas para completar \n",
            "el proyecto.   45 horas de trabajo semanales durante 16 semanas.  \n",
            " \n"
          ]
        }
      ]
    },
    {
      "cell_type": "markdown",
      "source": [
        "Se debe tener en cuenta que este consejo de administración que se nombra en el organigrama, es una parte de un todo, cuya responsabilidad es estar desarrollando y/o evaluando algunor requerimientos que la empresa crea necesaria. Cada área requiere la permanente interacción de múltiples profesionales, como abogados, administradores, contadores, economistas, ingenieros, médicos y mercadólogos, entre otros."
      ],
      "metadata": {
        "id": "NydiM_eyjNXE"
      }
    },
    {
      "cell_type": "markdown",
      "source": [
        "## **Equipo de proyecto**\n",
        "\n",
        "En el siguiente diagrama se muestra el equipo del proyecto del grupo de actuaria que se va a formar para realizar el trabajo encargado por la aseguradora. Este modelo es inspirado en un modelo de empresa actuarial de una firma mexicana que ha tenido grandes resultados en diferentes proyectos a nivel local y a nivel latinoamérica:\n",
        "\n",
        "\n",
        "\n"
      ],
      "metadata": {
        "id": "AzRLieddk1GT"
      }
    },
    {
      "cell_type": "markdown",
      "source": [
        "![Captura de Pantalla 2023-10-10 a la(s) 2.58.24 p.m..png](data:image/png;base64,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)"
      ],
      "metadata": {
        "id": "PojmNN--Ltz7"
      }
    },
    {
      "cell_type": "markdown",
      "source": [
        "##**Inventario de recursos iniciales**\n",
        "Los recursos que se necesitarán para realizar este proyecto son:\n",
        "\n",
        "1. Datos estructurados. Se tendrá acceso a la base de datos principal (datos en crudo) y un documento colaborativo donde se verán los cambios hecho por cada miembro.\n",
        "2. Personas profesionales en el área de la actuaria y las finanzas con experiencia en programación y con conocimiento de pricing de aseguradoras del sector salud.\n",
        "3. Cada persona del proyecto contará con un computador con suficiente capacidad para realizar los cálculos necesarios\n",
        "4. El presupuesto es de 0 pesos ya que los datos se han facilitado por la aseguradora.\n",
        "5. A medida que se hagan las entregas descritas en el plan de proyecto preliminar, cada miembro recibirá un dinero repartido de forma equitativa."
      ],
      "metadata": {
        "id": "UVPKO8Wmk1ba"
      }
    },
    {
      "cell_type": "markdown",
      "source": [
        "## **Riesgos y beneficios del proyecto**\n",
        "\n",
        "A continuación se enumerarán los riesgos y los beneficios que traen el realizar este proyecto de minería de datos:\n",
        "\n",
        "\n",
        "**Riesgos del proyecto**\n",
        "\n",
        "1. Presentar problemas en la implementación del modelo: Esto puede ocurrir por el tipo de datos que están manejando.\n",
        "2. No poder obtener un modelo adecuado utilizando diferentes técnicas: Se supone que independientemente de la técnica, el resultado debe ser bastante similar.\n",
        "3. El proyecto no satisfaga los requerimientos de la compañía.\n",
        "4. El modelo diseñado no sea eficiente en comparación a la técnica de pricing usada en este momento.\n",
        "\n",
        "\n",
        "**Beneficios del proyecto**\n",
        "\n",
        "1. Puede obtenerse grandes dividendos si este ofrece eficientes resultados para varias aseguradoras. Se puede hacer probando el modelo sobre otros datos que se obtienen previamente.\n",
        "2. Se lograría optimizar el proceso de pricing y el tiempo del cálculo.\n",
        "3. Se obtiene reconocimiento en las áreas de: Pricing, minería de datos y aprendizaje de máquinas al igual que en la ciencia de datos.\n",
        "\n"
      ],
      "metadata": {
        "id": "IAvFXS_G6fpP"
      }
    }
  ]
}